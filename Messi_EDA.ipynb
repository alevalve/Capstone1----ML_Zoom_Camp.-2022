{
 "cells": [
  {
   "cell_type": "code",
   "execution_count": 16,
   "metadata": {},
   "outputs": [],
   "source": [
    "## LIBRARIES\n",
    "\n",
    "import pandas as pd\n",
    "import pickle\n",
    "import statsmodels.api as sm\n",
    "from sklearn.metrics import confusion_matrix\n",
    "import math\n",
    "import matplotlib.pyplot as plt\n",
    "from xgboost import XGBClassifier\n",
    "from sklearn.model_selection import GridSearchCV\n",
    "import seaborn as sns\n",
    "from sklearn.metrics import mean_squared_error\n",
    "from sklearn.metrics import mean_absolute_error\n",
    "import bentoml\n",
    "from sklearn import svm, datasets\n",
    "from sklearn.model_selection import train_test_split\n",
    "from sklearn.preprocessing import label_binarize\n",
    "from sklearn.metrics import roc_curve, auc\n",
    "from sklearn.multiclass import OneVsRestClassifier\n",
    "from itertools import cycle\n",
    "from matplotlib import *\n",
    "import sys\n",
    "from sklearn.multiclass import OneVsOneClassifier\n",
    "from sklearn.preprocessing import label_binarize\n",
    "from sklearn.datasets import make_classification\n",
    "from sklearn.svm import SVC\n",
    "from pylab import *\n",
    "from sklearn.metrics import roc_auc_score\n",
    "from sklearn.naive_bayes import GaussianNB\n",
    "import pylab as pl\n",
    "from matplotlib import figure\n",
    "from matplotlib import pyplot as plt\n",
    "from sklearn.feature_extraction import DictVectorizer\n",
    "from statsmodels.stats.outliers_influence import variance_inflation_factor\n",
    "from sklearn.linear_model import LinearRegression\n",
    "from sklearn.linear_model import Lasso\n",
    "import numpy as np\n",
    "from scipy.stats import boxcox \n",
    "import pyreadr \n",
    "from sklearn.metrics import mean_squared_error, r2_score\n",
    "from sklearn.preprocessing import scale \n",
    "import seaborn as sns \n",
    "import matplotlib as plt\n",
    "from sklearn.preprocessing import StandardScaler\n",
    "from sklearn.linear_model import LogisticRegression\n",
    "import plotly.express as px\n",
    "from sklearn.pipeline import make_pipeline\n",
    "from sklearn.model_selection import train_test_split\n",
    "from sklearn.metrics import accuracy_score\n",
    "from sklearn.datasets import fetch_california_housing\n",
    "from sklearn.ensemble import RandomForestRegressor\n",
    "from sklearn.model_selection import RandomizedSearchCV\n",
    "import xgboost as xgb\n"
   ]
  },
  {
   "cell_type": "markdown",
   "metadata": {},
   "source": [
    "Undestanding the Data"
   ]
  },
  {
   "cell_type": "markdown",
   "metadata": {},
   "source": [
    "The dataset provided in this notebook is part of a personal project of mine to try and get insights from Messi's career penalties that I find useful in designing a model that accurately predicts his aim at goal during penalties. Penalty Shootouts were left out now but will be included in future modifications of this project. \n",
    "\n",
    "The aim of this notebook is to design a model that predicts the variable 'aim' of such characteristics of the kick as:\n",
    "\n",
    "1. 'team' - This is the team he took the kick for.\n",
    "\n",
    "2. 'opposition' - This is the team he took the kick against.\n",
    "\n",
    "3. 'minute-taken' - This is the minute of the kick.\n",
    "\n",
    "4. 'scoreline' - The scoreline before the kick was taken; 'lead' meaning his team was in the lead before the kick, 'draw' meaning his team were drawing, and 'losing' meaning his team were behind in the match beforethe spotkick.\n",
    "\n",
    "5. 'venue' - The grounds which the kick was taken on. 'home' means his current team homeground, 'away' meaning not his current team homeground, 'neutral' being on a neutral ground.\n",
    "\n",
    "6. 'previous_penalty' - The outcome of the last kick taken by Messi; 1 if scored, 0 if missed, 'N/A' if entry is first career kick.\n",
    "\n",
    "7. 'natural_foot' - Player most dominant foot.\n",
    "\n",
    "8. 'position_style' - To which direction behind the ball he stood before taking the kick.\n",
    "\n",
    "9. 'competition' - The competition which the kick was taken in.\n",
    "\n",
    "10. 'gk' - The opposition goal keeper."
   ]
  },
  {
   "cell_type": "code",
   "execution_count": 17,
   "metadata": {},
   "outputs": [],
   "source": [
    "## Data frame\n",
    "\n",
    "df = pd.read_excel('Messi_Penalties.xlsx')"
   ]
  },
  {
   "cell_type": "code",
   "execution_count": 18,
   "metadata": {},
   "outputs": [
    {
     "name": "stdout",
     "output_type": "stream",
     "text": [
      "<class 'pandas.core.frame.DataFrame'>\n",
      "RangeIndex: 137 entries, 0 to 136\n",
      "Data columns (total 11 columns):\n",
      " #   Column        Non-Null Count  Dtype \n",
      "---  ------        --------------  ----- \n",
      " 0   team for      137 non-null    object\n",
      " 1   team against  137 non-null    object\n",
      " 2   time          137 non-null    int64 \n",
      " 3   scoreline     137 non-null    object\n",
      " 4   venue         137 non-null    object\n",
      " 5   history       137 non-null    int64 \n",
      " 6   natural foot  137 non-null    object\n",
      " 7   position      137 non-null    object\n",
      " 8   competition   137 non-null    object\n",
      " 9   GK            137 non-null    object\n",
      " 10  direction     137 non-null    object\n",
      "dtypes: int64(2), object(9)\n",
      "memory usage: 11.9+ KB\n"
     ]
    }
   ],
   "source": [
    "## Dataframe details\n",
    "\n",
    "df.head()\n",
    "df.info()"
   ]
  },
  {
   "cell_type": "code",
   "execution_count": 19,
   "metadata": {},
   "outputs": [],
   "source": [
    "## Clean data \n",
    "\n",
    "def clean (data1):\n",
    "    data1= data1.applymap(lambda s:s.lower().replace(' ', '_') if type(s) == str else s)\n",
    "    data1.columns = [x.lower().replace(' ', '_') for x in data1.columns]\n",
    "    data1.columns = [x.lower().replace(':', '') for x in data1.columns]\n",
    "    data1.columns = [x.lower().replace('*', '') for x in data1.columns]\n",
    "    data1.columns = [x.lower().replace('.', '') for x in data1.columns] \n",
    "    data1.competition = [x.lower().replace('_', '') for x in data1.competition]\n",
    "    return data1\n",
    "\n",
    "df1 = clean(df)"
   ]
  },
  {
   "cell_type": "code",
   "execution_count": 20,
   "metadata": {},
   "outputs": [
    {
     "data": {
      "text/plain": [
       "laliga         76\n",
       "ucl            21\n",
       "friendly       12\n",
       "copadelrey      8\n",
       "qualifiers      7\n",
       "wc              6\n",
       "supercup        4\n",
       "copaamerica     3\n",
       "Name: competition, dtype: int64"
      ]
     },
     "execution_count": 20,
     "metadata": {},
     "output_type": "execute_result"
    }
   ],
   "source": [
    "## Check competition variable\n",
    "\n",
    "df1.competition.value_counts()"
   ]
  },
  {
   "cell_type": "code",
   "execution_count": 21,
   "metadata": {},
   "outputs": [
    {
     "name": "stdout",
     "output_type": "stream",
     "text": [
      "<class 'pandas.core.frame.DataFrame'>\n",
      "RangeIndex: 137 entries, 0 to 136\n",
      "Data columns (total 11 columns):\n",
      " #   Column        Non-Null Count  Dtype \n",
      "---  ------        --------------  ----- \n",
      " 0   team_for      137 non-null    object\n",
      " 1   team_against  137 non-null    object\n",
      " 2   time          137 non-null    int64 \n",
      " 3   scoreline     137 non-null    object\n",
      " 4   venue         137 non-null    object\n",
      " 5   history       137 non-null    int64 \n",
      " 6   natural_foot  137 non-null    object\n",
      " 7   position      137 non-null    object\n",
      " 8   competition   137 non-null    object\n",
      " 9   gk            137 non-null    object\n",
      " 10  direction     137 non-null    object\n",
      "dtypes: int64(2), object(9)\n",
      "memory usage: 11.9+ KB\n"
     ]
    }
   ],
   "source": [
    "## Data frame info \n",
    "df1.info()"
   ]
  },
  {
   "cell_type": "code",
   "execution_count": 22,
   "metadata": {},
   "outputs": [
    {
     "data": {
      "text/plain": [
       "team_for        0\n",
       "team_against    0\n",
       "time            0\n",
       "scoreline       0\n",
       "venue           0\n",
       "history         0\n",
       "natural_foot    0\n",
       "position        0\n",
       "competition     0\n",
       "gk              0\n",
       "direction       0\n",
       "dtype: int64"
      ]
     },
     "execution_count": 22,
     "metadata": {},
     "output_type": "execute_result"
    }
   ],
   "source": [
    "## Check null variables\n",
    "\n",
    "nulls = df1.isnull().sum(axis = 0)\n",
    "nulls"
   ]
  },
  {
   "cell_type": "code",
   "execution_count": 23,
   "metadata": {},
   "outputs": [
    {
     "name": "stdout",
     "output_type": "stream",
     "text": [
      "There are 0 duplicated rows in the data\n"
     ]
    }
   ],
   "source": [
    "## Check duplicate data\n",
    "\n",
    "duplicate = df1.duplicated().sum()\n",
    "print('There are {} duplicated rows in the data'.format(duplicate))"
   ]
  },
  {
   "cell_type": "code",
   "execution_count": 46,
   "metadata": {},
   "outputs": [
    {
     "data": {
      "text/html": [
       "<div>\n",
       "<style scoped>\n",
       "    .dataframe tbody tr th:only-of-type {\n",
       "        vertical-align: middle;\n",
       "    }\n",
       "\n",
       "    .dataframe tbody tr th {\n",
       "        vertical-align: top;\n",
       "    }\n",
       "\n",
       "    .dataframe thead th {\n",
       "        text-align: right;\n",
       "    }\n",
       "</style>\n",
       "<table border=\"1\" class=\"dataframe\">\n",
       "  <thead>\n",
       "    <tr style=\"text-align: right;\">\n",
       "      <th></th>\n",
       "      <th>time</th>\n",
       "      <th>history</th>\n",
       "    </tr>\n",
       "  </thead>\n",
       "  <tbody>\n",
       "    <tr>\n",
       "      <th>count</th>\n",
       "      <td>137.000000</td>\n",
       "      <td>137.000000</td>\n",
       "    </tr>\n",
       "    <tr>\n",
       "      <th>mean</th>\n",
       "      <td>54.014599</td>\n",
       "      <td>0.788321</td>\n",
       "    </tr>\n",
       "    <tr>\n",
       "      <th>std</th>\n",
       "      <td>24.586876</td>\n",
       "      <td>0.409997</td>\n",
       "    </tr>\n",
       "    <tr>\n",
       "      <th>min</th>\n",
       "      <td>5.000000</td>\n",
       "      <td>0.000000</td>\n",
       "    </tr>\n",
       "    <tr>\n",
       "      <th>25%</th>\n",
       "      <td>34.000000</td>\n",
       "      <td>1.000000</td>\n",
       "    </tr>\n",
       "    <tr>\n",
       "      <th>50%</th>\n",
       "      <td>55.000000</td>\n",
       "      <td>1.000000</td>\n",
       "    </tr>\n",
       "    <tr>\n",
       "      <th>75%</th>\n",
       "      <td>76.000000</td>\n",
       "      <td>1.000000</td>\n",
       "    </tr>\n",
       "    <tr>\n",
       "      <th>max</th>\n",
       "      <td>90.000000</td>\n",
       "      <td>1.000000</td>\n",
       "    </tr>\n",
       "  </tbody>\n",
       "</table>\n",
       "</div>"
      ],
      "text/plain": [
       "             time     history\n",
       "count  137.000000  137.000000\n",
       "mean    54.014599    0.788321\n",
       "std     24.586876    0.409997\n",
       "min      5.000000    0.000000\n",
       "25%     34.000000    1.000000\n",
       "50%     55.000000    1.000000\n",
       "75%     76.000000    1.000000\n",
       "max     90.000000    1.000000"
      ]
     },
     "execution_count": 46,
     "metadata": {},
     "output_type": "execute_result"
    }
   ],
   "source": [
    "## Statistics of the data\n",
    "\n",
    "df.describe(include=np.number)"
   ]
  },
  {
   "cell_type": "code",
   "execution_count": 47,
   "metadata": {},
   "outputs": [
    {
     "data": {
      "text/html": [
       "<div>\n",
       "<style scoped>\n",
       "    .dataframe tbody tr th:only-of-type {\n",
       "        vertical-align: middle;\n",
       "    }\n",
       "\n",
       "    .dataframe tbody tr th {\n",
       "        vertical-align: top;\n",
       "    }\n",
       "\n",
       "    .dataframe thead th {\n",
       "        text-align: right;\n",
       "    }\n",
       "</style>\n",
       "<table border=\"1\" class=\"dataframe\">\n",
       "  <thead>\n",
       "    <tr style=\"text-align: right;\">\n",
       "      <th></th>\n",
       "      <th>team_for</th>\n",
       "      <th>team_against</th>\n",
       "      <th>scoreline</th>\n",
       "      <th>venue</th>\n",
       "      <th>natural_foot</th>\n",
       "      <th>position</th>\n",
       "      <th>competition</th>\n",
       "      <th>gk</th>\n",
       "      <th>direction</th>\n",
       "    </tr>\n",
       "  </thead>\n",
       "  <tbody>\n",
       "    <tr>\n",
       "      <th>count</th>\n",
       "      <td>137</td>\n",
       "      <td>137</td>\n",
       "      <td>137</td>\n",
       "      <td>137</td>\n",
       "      <td>137</td>\n",
       "      <td>137</td>\n",
       "      <td>137</td>\n",
       "      <td>137</td>\n",
       "      <td>137</td>\n",
       "    </tr>\n",
       "    <tr>\n",
       "      <th>unique</th>\n",
       "      <td>3</td>\n",
       "      <td>64</td>\n",
       "      <td>3</td>\n",
       "      <td>3</td>\n",
       "      <td>1</td>\n",
       "      <td>1</td>\n",
       "      <td>8</td>\n",
       "      <td>89</td>\n",
       "      <td>3</td>\n",
       "    </tr>\n",
       "    <tr>\n",
       "      <th>top</th>\n",
       "      <td>barcelona</td>\n",
       "      <td>valencia</td>\n",
       "      <td>draw</td>\n",
       "      <td>home</td>\n",
       "      <td>left</td>\n",
       "      <td>right</td>\n",
       "      <td>laliga</td>\n",
       "      <td>alves</td>\n",
       "      <td>right</td>\n",
       "    </tr>\n",
       "    <tr>\n",
       "      <th>freq</th>\n",
       "      <td>106</td>\n",
       "      <td>9</td>\n",
       "      <td>64</td>\n",
       "      <td>81</td>\n",
       "      <td>137</td>\n",
       "      <td>137</td>\n",
       "      <td>77</td>\n",
       "      <td>5</td>\n",
       "      <td>69</td>\n",
       "    </tr>\n",
       "  </tbody>\n",
       "</table>\n",
       "</div>"
      ],
      "text/plain": [
       "         team_for team_against scoreline venue natural_foot position  \\\n",
       "count         137          137       137   137          137      137   \n",
       "unique          3           64         3     3            1        1   \n",
       "top     barcelona     valencia      draw  home         left    right   \n",
       "freq          106            9        64    81          137      137   \n",
       "\n",
       "       competition     gk direction  \n",
       "count          137    137       137  \n",
       "unique           8     89         3  \n",
       "top         laliga  alves     right  \n",
       "freq            77      5        69  "
      ]
     },
     "execution_count": 47,
     "metadata": {},
     "output_type": "execute_result"
    }
   ],
   "source": [
    "## Data description\n",
    "df1.describe(include = object)"
   ]
  },
  {
   "cell_type": "code",
   "execution_count": 11,
   "metadata": {},
   "outputs": [
    {
     "name": "stderr",
     "output_type": "stream",
     "text": [
      "/var/folders/zw/mb45ddnn0g98d2p147gt67bm0000gn/T/ipykernel_49778/2518453628.py:2: FutureWarning: The default value of numeric_only in DataFrame.corr is deprecated. In a future version, it will default to False. Select only valid columns or specify the value of numeric_only to silence this warning.\n",
      "  matrix = df1.corr()\n"
     ]
    },
    {
     "data": {
      "text/html": [
       "<style type=\"text/css\">\n",
       "#T_1917f_row0_col0, #T_1917f_row1_col1 {\n",
       "  background-color: #b40426;\n",
       "  color: #f1f1f1;\n",
       "}\n",
       "#T_1917f_row0_col1, #T_1917f_row1_col0 {\n",
       "  background-color: #3b4cc0;\n",
       "  color: #f1f1f1;\n",
       "}\n",
       "</style>\n",
       "<table id=\"T_1917f\">\n",
       "  <thead>\n",
       "    <tr>\n",
       "      <th class=\"blank level0\" >&nbsp;</th>\n",
       "      <th id=\"T_1917f_level0_col0\" class=\"col_heading level0 col0\" >time</th>\n",
       "      <th id=\"T_1917f_level0_col1\" class=\"col_heading level0 col1\" >history</th>\n",
       "    </tr>\n",
       "  </thead>\n",
       "  <tbody>\n",
       "    <tr>\n",
       "      <th id=\"T_1917f_level0_row0\" class=\"row_heading level0 row0\" >time</th>\n",
       "      <td id=\"T_1917f_row0_col0\" class=\"data row0 col0\" >1.000000</td>\n",
       "      <td id=\"T_1917f_row0_col1\" class=\"data row0 col1\" >0.156404</td>\n",
       "    </tr>\n",
       "    <tr>\n",
       "      <th id=\"T_1917f_level0_row1\" class=\"row_heading level0 row1\" >history</th>\n",
       "      <td id=\"T_1917f_row1_col0\" class=\"data row1 col0\" >0.156404</td>\n",
       "      <td id=\"T_1917f_row1_col1\" class=\"data row1 col1\" >1.000000</td>\n",
       "    </tr>\n",
       "  </tbody>\n",
       "</table>\n"
      ],
      "text/plain": [
       "<pandas.io.formats.style.Styler at 0x28965f070>"
      ]
     },
     "execution_count": 11,
     "metadata": {},
     "output_type": "execute_result"
    }
   ],
   "source": [
    "## Correlacion \n",
    "matrix = df1.corr()\n",
    "matrix.style.background_gradient(cmap='coolwarm')"
   ]
  },
  {
   "cell_type": "code",
   "execution_count": 49,
   "metadata": {},
   "outputs": [
    {
     "data": {
      "text/plain": [
       "Index(['team_for', 'team_against', 'time', 'scoreline', 'venue', 'history',\n",
       "       'natural_foot', 'position', 'competition', 'gk', 'direction'],\n",
       "      dtype='object')"
      ]
     },
     "execution_count": 49,
     "metadata": {},
     "output_type": "execute_result"
    }
   ],
   "source": [
    "df1.columns"
   ]
  },
  {
   "cell_type": "code",
   "execution_count": 24,
   "metadata": {},
   "outputs": [
    {
     "data": {
      "text/html": [
       "<div>\n",
       "<style scoped>\n",
       "    .dataframe tbody tr th:only-of-type {\n",
       "        vertical-align: middle;\n",
       "    }\n",
       "\n",
       "    .dataframe tbody tr th {\n",
       "        vertical-align: top;\n",
       "    }\n",
       "\n",
       "    .dataframe thead th {\n",
       "        text-align: right;\n",
       "    }\n",
       "</style>\n",
       "<table border=\"1\" class=\"dataframe\">\n",
       "  <thead>\n",
       "    <tr style=\"text-align: right;\">\n",
       "      <th></th>\n",
       "      <th>team_for</th>\n",
       "      <th>time</th>\n",
       "      <th>scoreline</th>\n",
       "      <th>venue</th>\n",
       "      <th>history</th>\n",
       "      <th>competition</th>\n",
       "      <th>direction</th>\n",
       "    </tr>\n",
       "  </thead>\n",
       "  <tbody>\n",
       "    <tr>\n",
       "      <th>0</th>\n",
       "      <td>argentina</td>\n",
       "      <td>40</td>\n",
       "      <td>draw</td>\n",
       "      <td>neutral</td>\n",
       "      <td>0</td>\n",
       "      <td>wc</td>\n",
       "      <td>left</td>\n",
       "    </tr>\n",
       "    <tr>\n",
       "      <th>1</th>\n",
       "      <td>argentina</td>\n",
       "      <td>75</td>\n",
       "      <td>draw</td>\n",
       "      <td>neutral</td>\n",
       "      <td>1</td>\n",
       "      <td>wc</td>\n",
       "      <td>right</td>\n",
       "    </tr>\n",
       "    <tr>\n",
       "      <th>2</th>\n",
       "      <td>argentina</td>\n",
       "      <td>55</td>\n",
       "      <td>losing</td>\n",
       "      <td>neutral</td>\n",
       "      <td>1</td>\n",
       "      <td>friendly</td>\n",
       "      <td>left</td>\n",
       "    </tr>\n",
       "    <tr>\n",
       "      <th>3</th>\n",
       "      <td>barcelona</td>\n",
       "      <td>79</td>\n",
       "      <td>lead</td>\n",
       "      <td>home</td>\n",
       "      <td>1</td>\n",
       "      <td>laliga</td>\n",
       "      <td>right</td>\n",
       "    </tr>\n",
       "    <tr>\n",
       "      <th>4</th>\n",
       "      <td>barcelona</td>\n",
       "      <td>80</td>\n",
       "      <td>lead</td>\n",
       "      <td>home</td>\n",
       "      <td>1</td>\n",
       "      <td>laliga</td>\n",
       "      <td>middle</td>\n",
       "    </tr>\n",
       "    <tr>\n",
       "      <th>...</th>\n",
       "      <td>...</td>\n",
       "      <td>...</td>\n",
       "      <td>...</td>\n",
       "      <td>...</td>\n",
       "      <td>...</td>\n",
       "      <td>...</td>\n",
       "      <td>...</td>\n",
       "    </tr>\n",
       "    <tr>\n",
       "      <th>132</th>\n",
       "      <td>argentina</td>\n",
       "      <td>8</td>\n",
       "      <td>draw</td>\n",
       "      <td>neutral</td>\n",
       "      <td>0</td>\n",
       "      <td>friendly</td>\n",
       "      <td>right</td>\n",
       "    </tr>\n",
       "    <tr>\n",
       "      <th>133</th>\n",
       "      <td>argentina</td>\n",
       "      <td>45</td>\n",
       "      <td>lead</td>\n",
       "      <td>neutral</td>\n",
       "      <td>1</td>\n",
       "      <td>friendly</td>\n",
       "      <td>right</td>\n",
       "    </tr>\n",
       "    <tr>\n",
       "      <th>134</th>\n",
       "      <td>argentina</td>\n",
       "      <td>10</td>\n",
       "      <td>draw</td>\n",
       "      <td>neutral</td>\n",
       "      <td>1</td>\n",
       "      <td>wc</td>\n",
       "      <td>left</td>\n",
       "    </tr>\n",
       "    <tr>\n",
       "      <th>135</th>\n",
       "      <td>argentina</td>\n",
       "      <td>39</td>\n",
       "      <td>draw</td>\n",
       "      <td>neutral</td>\n",
       "      <td>1</td>\n",
       "      <td>wc</td>\n",
       "      <td>right</td>\n",
       "    </tr>\n",
       "    <tr>\n",
       "      <th>136</th>\n",
       "      <td>argentina</td>\n",
       "      <td>73</td>\n",
       "      <td>lead</td>\n",
       "      <td>neutral</td>\n",
       "      <td>0</td>\n",
       "      <td>wc</td>\n",
       "      <td>left</td>\n",
       "    </tr>\n",
       "  </tbody>\n",
       "</table>\n",
       "<p>137 rows × 7 columns</p>\n",
       "</div>"
      ],
      "text/plain": [
       "      team_for  time scoreline    venue  history competition direction\n",
       "0    argentina    40      draw  neutral        0          wc      left\n",
       "1    argentina    75      draw  neutral        1          wc     right\n",
       "2    argentina    55    losing  neutral        1    friendly      left\n",
       "3    barcelona    79      lead     home        1      laliga     right\n",
       "4    barcelona    80      lead     home        1      laliga    middle\n",
       "..         ...   ...       ...      ...      ...         ...       ...\n",
       "132  argentina     8      draw  neutral        0    friendly     right\n",
       "133  argentina    45      lead  neutral        1    friendly     right\n",
       "134  argentina    10      draw  neutral        1          wc      left\n",
       "135  argentina    39      draw  neutral        1          wc     right\n",
       "136  argentina    73      lead  neutral        0          wc      left\n",
       "\n",
       "[137 rows x 7 columns]"
      ]
     },
     "execution_count": 24,
     "metadata": {},
     "output_type": "execute_result"
    }
   ],
   "source": [
    "## Take out columns\n",
    "\n",
    "def drop(data):\n",
    "    \n",
    "    return data.drop(columns=['natural_foot','position','team_against','gk'])\n",
    "\n",
    "df2 = drop(df1)\n",
    "df2"
   ]
  },
  {
   "cell_type": "code",
   "execution_count": 25,
   "metadata": {},
   "outputs": [
    {
     "name": "stdout",
     "output_type": "stream",
     "text": [
      "barcelona    0.773723\n",
      "argentina    0.204380\n",
      "psg          0.021898\n",
      "Name: team_for, dtype: float64\n",
      "90    0.065693\n",
      "55    0.043796\n",
      "86    0.036496\n",
      "57    0.036496\n",
      "82    0.029197\n",
      "        ...   \n",
      "88    0.007299\n",
      "56    0.007299\n",
      "9     0.007299\n",
      "63    0.007299\n",
      "10    0.007299\n",
      "Name: time, Length: 69, dtype: float64\n",
      "draw      0.467153\n",
      "lead      0.430657\n",
      "losing    0.102190\n",
      "Name: scoreline, dtype: float64\n",
      "home       0.591241\n",
      "away       0.299270\n",
      "neutral    0.109489\n",
      "Name: venue, dtype: float64\n",
      "1    0.788321\n",
      "0    0.211679\n",
      "Name: history, dtype: float64\n",
      "laliga         0.554745\n",
      "ucl            0.153285\n",
      "friendly       0.087591\n",
      "copadelrey     0.058394\n",
      "qualifiers     0.051095\n",
      "wc             0.043796\n",
      "supercup       0.029197\n",
      "copaamerica    0.021898\n",
      "Name: competition, dtype: float64\n",
      "right     0.503650\n",
      "left      0.379562\n",
      "middle    0.116788\n",
      "Name: direction, dtype: float64\n"
     ]
    },
    {
     "name": "stderr",
     "output_type": "stream",
     "text": [
      "/var/folders/zw/mb45ddnn0g98d2p147gt67bm0000gn/T/ipykernel_49778/3210155241.py:5: DeprecationWarning:\n",
      "\n",
      "`np.float` is a deprecated alias for the builtin `float`. To silence this warning, use `float` by itself. Doing this will not modify any behavior and is safe. If you specifically wanted the numpy scalar type, use `np.float64` here.\n",
      "Deprecated in NumPy 1.20; for more details and guidance: https://numpy.org/devdocs/release/1.20.0-notes.html#deprecations\n",
      "\n",
      "/var/folders/zw/mb45ddnn0g98d2p147gt67bm0000gn/T/ipykernel_49778/3210155241.py:5: DeprecationWarning:\n",
      "\n",
      "`np.float` is a deprecated alias for the builtin `float`. To silence this warning, use `float` by itself. Doing this will not modify any behavior and is safe. If you specifically wanted the numpy scalar type, use `np.float64` here.\n",
      "Deprecated in NumPy 1.20; for more details and guidance: https://numpy.org/devdocs/release/1.20.0-notes.html#deprecations\n",
      "\n",
      "/var/folders/zw/mb45ddnn0g98d2p147gt67bm0000gn/T/ipykernel_49778/3210155241.py:5: DeprecationWarning:\n",
      "\n",
      "`np.float` is a deprecated alias for the builtin `float`. To silence this warning, use `float` by itself. Doing this will not modify any behavior and is safe. If you specifically wanted the numpy scalar type, use `np.float64` here.\n",
      "Deprecated in NumPy 1.20; for more details and guidance: https://numpy.org/devdocs/release/1.20.0-notes.html#deprecations\n",
      "\n",
      "/var/folders/zw/mb45ddnn0g98d2p147gt67bm0000gn/T/ipykernel_49778/3210155241.py:5: DeprecationWarning:\n",
      "\n",
      "`np.float` is a deprecated alias for the builtin `float`. To silence this warning, use `float` by itself. Doing this will not modify any behavior and is safe. If you specifically wanted the numpy scalar type, use `np.float64` here.\n",
      "Deprecated in NumPy 1.20; for more details and guidance: https://numpy.org/devdocs/release/1.20.0-notes.html#deprecations\n",
      "\n",
      "/var/folders/zw/mb45ddnn0g98d2p147gt67bm0000gn/T/ipykernel_49778/3210155241.py:5: DeprecationWarning:\n",
      "\n",
      "`np.float` is a deprecated alias for the builtin `float`. To silence this warning, use `float` by itself. Doing this will not modify any behavior and is safe. If you specifically wanted the numpy scalar type, use `np.float64` here.\n",
      "Deprecated in NumPy 1.20; for more details and guidance: https://numpy.org/devdocs/release/1.20.0-notes.html#deprecations\n",
      "\n",
      "/var/folders/zw/mb45ddnn0g98d2p147gt67bm0000gn/T/ipykernel_49778/3210155241.py:5: DeprecationWarning:\n",
      "\n",
      "`np.float` is a deprecated alias for the builtin `float`. To silence this warning, use `float` by itself. Doing this will not modify any behavior and is safe. If you specifically wanted the numpy scalar type, use `np.float64` here.\n",
      "Deprecated in NumPy 1.20; for more details and guidance: https://numpy.org/devdocs/release/1.20.0-notes.html#deprecations\n",
      "\n",
      "/var/folders/zw/mb45ddnn0g98d2p147gt67bm0000gn/T/ipykernel_49778/3210155241.py:5: DeprecationWarning:\n",
      "\n",
      "`np.float` is a deprecated alias for the builtin `float`. To silence this warning, use `float` by itself. Doing this will not modify any behavior and is safe. If you specifically wanted the numpy scalar type, use `np.float64` here.\n",
      "Deprecated in NumPy 1.20; for more details and guidance: https://numpy.org/devdocs/release/1.20.0-notes.html#deprecations\n",
      "\n"
     ]
    }
   ],
   "source": [
    "# Check frequency\n",
    "\n",
    "for var in df2: \n",
    "    \n",
    "    print(df2[var].value_counts()/np.float(len(df2)))"
   ]
  },
  {
   "cell_type": "markdown",
   "metadata": {},
   "source": [
    "Plots"
   ]
  },
  {
   "cell_type": "code",
   "execution_count": 26,
   "metadata": {},
   "outputs": [],
   "source": [
    "sns.set_style('darkgrid')\n",
    "plt.rcParams['font.size'] = 14\n",
    "plt.rcParams['figure.figsize'] = (10,6)\n",
    "plt.rcParams['figure.facecolor'] = '#00000000'"
   ]
  },
  {
   "cell_type": "code",
   "execution_count": 33,
   "metadata": {},
   "outputs": [
    {
     "data": {
      "application/vnd.plotly.v1+json": {
       "config": {
        "plotlyServerURL": "https://plot.ly"
       },
       "data": [
        {
         "alignmentgroup": "True",
         "bingroup": "x",
         "hovertemplate": "team_for=argentina<br>competition=%{x}<br>count=%{y}<extra></extra>",
         "legendgroup": "argentina",
         "marker": {
          "color": "violet",
          "pattern": {
           "shape": ""
          }
         },
         "name": "argentina",
         "offsetgroup": "argentina",
         "orientation": "v",
         "showlegend": true,
         "type": "histogram",
         "x": [
          "wc",
          "wc",
          "friendly",
          "friendly",
          "friendly",
          "friendly",
          "qualifiers",
          "friendly",
          "qualifiers",
          "qualifiers",
          "friendly",
          "friendly",
          "copaamerica",
          "qualifiers",
          "qualifiers",
          "friendly",
          "wc",
          "copaamerica",
          "friendly",
          "friendly",
          "qualifiers",
          "qualifiers",
          "copaamerica",
          "friendly",
          "friendly",
          "wc",
          "wc",
          "wc"
         ],
         "xaxis": "x",
         "yaxis": "y"
        },
        {
         "alignmentgroup": "True",
         "bingroup": "x",
         "hovertemplate": "team_for=barcelona<br>competition=%{x}<br>count=%{y}<extra></extra>",
         "legendgroup": "barcelona",
         "marker": {
          "color": "black",
          "pattern": {
           "shape": ""
          }
         },
         "name": "barcelona",
         "offsetgroup": "barcelona",
         "orientation": "v",
         "showlegend": true,
         "type": "histogram",
         "x": [
          "laliga",
          "laliga",
          "laliga",
          "ucl",
          "copadelrey",
          "laliga",
          "laliga",
          "laliga",
          "copadelrey",
          "copadelrey",
          "laliga",
          "laliga",
          "supercup",
          "laliga",
          "ucl",
          "laliga",
          "copadelrey",
          "laliga",
          "ucl",
          "laliga",
          "laliga",
          "laliga",
          "laliga",
          "ucl",
          "ucl",
          "copadelrey",
          "laliga",
          "laliga",
          "laliga",
          "laliga",
          "laliga",
          "laliga",
          "laliga",
          "ucl",
          "laliga",
          "laliga",
          "laliga",
          "laliga",
          "supercup",
          "laliga",
          "laliga",
          "laliga",
          "laliga",
          "laliga",
          "supercup",
          "ucl",
          "laliga",
          "ucl",
          "laliga",
          "laliga",
          "laliga",
          "laliga",
          "laliga",
          "laliga",
          "copadelrey",
          "laliga",
          "laliga",
          "laliga",
          "ucl",
          "laliga",
          "laliga",
          "laliga",
          "laliga",
          "laliga",
          "laliga",
          "laliga",
          "laliga",
          "ucl",
          "laliga",
          "laliga",
          "laliga",
          "laliga",
          "ucl",
          "copadelrey",
          "laliga",
          "ucl",
          "laliga",
          "laliga",
          "laliga",
          "supercup",
          "laliga",
          "laliga",
          "laliga",
          "laliga",
          "copadelrey",
          "laliga",
          "laliga",
          "laliga",
          "laliga",
          "laliga",
          "ucl",
          "laliga",
          "laliga",
          "laliga",
          "laliga",
          "laliga",
          "laliga",
          "ucl",
          "ucl",
          "ucl",
          "laliga",
          "laliga",
          "ucl",
          "laliga",
          "ucl",
          "laliga"
         ],
         "xaxis": "x",
         "yaxis": "y"
        },
        {
         "alignmentgroup": "True",
         "bingroup": "x",
         "hovertemplate": "team_for=psg<br>competition=%{x}<br>count=%{y}<extra></extra>",
         "legendgroup": "psg",
         "marker": {
          "color": "yellow",
          "pattern": {
           "shape": ""
          }
         },
         "name": "psg",
         "offsetgroup": "psg",
         "orientation": "v",
         "showlegend": true,
         "type": "histogram",
         "x": [
          "ucl",
          "ucl",
          "ucl"
         ],
         "xaxis": "x",
         "yaxis": "y"
        }
       ],
       "layout": {
        "barmode": "relative",
        "legend": {
         "title": {
          "text": "team_for"
         },
         "tracegroupgap": 0
        },
        "template": {
         "data": {
          "bar": [
           {
            "error_x": {
             "color": "#2a3f5f"
            },
            "error_y": {
             "color": "#2a3f5f"
            },
            "marker": {
             "line": {
              "color": "#E5ECF6",
              "width": 0.5
             },
             "pattern": {
              "fillmode": "overlay",
              "size": 10,
              "solidity": 0.2
             }
            },
            "type": "bar"
           }
          ],
          "barpolar": [
           {
            "marker": {
             "line": {
              "color": "#E5ECF6",
              "width": 0.5
             },
             "pattern": {
              "fillmode": "overlay",
              "size": 10,
              "solidity": 0.2
             }
            },
            "type": "barpolar"
           }
          ],
          "carpet": [
           {
            "aaxis": {
             "endlinecolor": "#2a3f5f",
             "gridcolor": "white",
             "linecolor": "white",
             "minorgridcolor": "white",
             "startlinecolor": "#2a3f5f"
            },
            "baxis": {
             "endlinecolor": "#2a3f5f",
             "gridcolor": "white",
             "linecolor": "white",
             "minorgridcolor": "white",
             "startlinecolor": "#2a3f5f"
            },
            "type": "carpet"
           }
          ],
          "choropleth": [
           {
            "colorbar": {
             "outlinewidth": 0,
             "ticks": ""
            },
            "type": "choropleth"
           }
          ],
          "contour": [
           {
            "colorbar": {
             "outlinewidth": 0,
             "ticks": ""
            },
            "colorscale": [
             [
              0,
              "#0d0887"
             ],
             [
              0.1111111111111111,
              "#46039f"
             ],
             [
              0.2222222222222222,
              "#7201a8"
             ],
             [
              0.3333333333333333,
              "#9c179e"
             ],
             [
              0.4444444444444444,
              "#bd3786"
             ],
             [
              0.5555555555555556,
              "#d8576b"
             ],
             [
              0.6666666666666666,
              "#ed7953"
             ],
             [
              0.7777777777777778,
              "#fb9f3a"
             ],
             [
              0.8888888888888888,
              "#fdca26"
             ],
             [
              1,
              "#f0f921"
             ]
            ],
            "type": "contour"
           }
          ],
          "contourcarpet": [
           {
            "colorbar": {
             "outlinewidth": 0,
             "ticks": ""
            },
            "type": "contourcarpet"
           }
          ],
          "heatmap": [
           {
            "colorbar": {
             "outlinewidth": 0,
             "ticks": ""
            },
            "colorscale": [
             [
              0,
              "#0d0887"
             ],
             [
              0.1111111111111111,
              "#46039f"
             ],
             [
              0.2222222222222222,
              "#7201a8"
             ],
             [
              0.3333333333333333,
              "#9c179e"
             ],
             [
              0.4444444444444444,
              "#bd3786"
             ],
             [
              0.5555555555555556,
              "#d8576b"
             ],
             [
              0.6666666666666666,
              "#ed7953"
             ],
             [
              0.7777777777777778,
              "#fb9f3a"
             ],
             [
              0.8888888888888888,
              "#fdca26"
             ],
             [
              1,
              "#f0f921"
             ]
            ],
            "type": "heatmap"
           }
          ],
          "heatmapgl": [
           {
            "colorbar": {
             "outlinewidth": 0,
             "ticks": ""
            },
            "colorscale": [
             [
              0,
              "#0d0887"
             ],
             [
              0.1111111111111111,
              "#46039f"
             ],
             [
              0.2222222222222222,
              "#7201a8"
             ],
             [
              0.3333333333333333,
              "#9c179e"
             ],
             [
              0.4444444444444444,
              "#bd3786"
             ],
             [
              0.5555555555555556,
              "#d8576b"
             ],
             [
              0.6666666666666666,
              "#ed7953"
             ],
             [
              0.7777777777777778,
              "#fb9f3a"
             ],
             [
              0.8888888888888888,
              "#fdca26"
             ],
             [
              1,
              "#f0f921"
             ]
            ],
            "type": "heatmapgl"
           }
          ],
          "histogram": [
           {
            "marker": {
             "pattern": {
              "fillmode": "overlay",
              "size": 10,
              "solidity": 0.2
             }
            },
            "type": "histogram"
           }
          ],
          "histogram2d": [
           {
            "colorbar": {
             "outlinewidth": 0,
             "ticks": ""
            },
            "colorscale": [
             [
              0,
              "#0d0887"
             ],
             [
              0.1111111111111111,
              "#46039f"
             ],
             [
              0.2222222222222222,
              "#7201a8"
             ],
             [
              0.3333333333333333,
              "#9c179e"
             ],
             [
              0.4444444444444444,
              "#bd3786"
             ],
             [
              0.5555555555555556,
              "#d8576b"
             ],
             [
              0.6666666666666666,
              "#ed7953"
             ],
             [
              0.7777777777777778,
              "#fb9f3a"
             ],
             [
              0.8888888888888888,
              "#fdca26"
             ],
             [
              1,
              "#f0f921"
             ]
            ],
            "type": "histogram2d"
           }
          ],
          "histogram2dcontour": [
           {
            "colorbar": {
             "outlinewidth": 0,
             "ticks": ""
            },
            "colorscale": [
             [
              0,
              "#0d0887"
             ],
             [
              0.1111111111111111,
              "#46039f"
             ],
             [
              0.2222222222222222,
              "#7201a8"
             ],
             [
              0.3333333333333333,
              "#9c179e"
             ],
             [
              0.4444444444444444,
              "#bd3786"
             ],
             [
              0.5555555555555556,
              "#d8576b"
             ],
             [
              0.6666666666666666,
              "#ed7953"
             ],
             [
              0.7777777777777778,
              "#fb9f3a"
             ],
             [
              0.8888888888888888,
              "#fdca26"
             ],
             [
              1,
              "#f0f921"
             ]
            ],
            "type": "histogram2dcontour"
           }
          ],
          "mesh3d": [
           {
            "colorbar": {
             "outlinewidth": 0,
             "ticks": ""
            },
            "type": "mesh3d"
           }
          ],
          "parcoords": [
           {
            "line": {
             "colorbar": {
              "outlinewidth": 0,
              "ticks": ""
             }
            },
            "type": "parcoords"
           }
          ],
          "pie": [
           {
            "automargin": true,
            "type": "pie"
           }
          ],
          "scatter": [
           {
            "fillpattern": {
             "fillmode": "overlay",
             "size": 10,
             "solidity": 0.2
            },
            "type": "scatter"
           }
          ],
          "scatter3d": [
           {
            "line": {
             "colorbar": {
              "outlinewidth": 0,
              "ticks": ""
             }
            },
            "marker": {
             "colorbar": {
              "outlinewidth": 0,
              "ticks": ""
             }
            },
            "type": "scatter3d"
           }
          ],
          "scattercarpet": [
           {
            "marker": {
             "colorbar": {
              "outlinewidth": 0,
              "ticks": ""
             }
            },
            "type": "scattercarpet"
           }
          ],
          "scattergeo": [
           {
            "marker": {
             "colorbar": {
              "outlinewidth": 0,
              "ticks": ""
             }
            },
            "type": "scattergeo"
           }
          ],
          "scattergl": [
           {
            "marker": {
             "colorbar": {
              "outlinewidth": 0,
              "ticks": ""
             }
            },
            "type": "scattergl"
           }
          ],
          "scattermapbox": [
           {
            "marker": {
             "colorbar": {
              "outlinewidth": 0,
              "ticks": ""
             }
            },
            "type": "scattermapbox"
           }
          ],
          "scatterpolar": [
           {
            "marker": {
             "colorbar": {
              "outlinewidth": 0,
              "ticks": ""
             }
            },
            "type": "scatterpolar"
           }
          ],
          "scatterpolargl": [
           {
            "marker": {
             "colorbar": {
              "outlinewidth": 0,
              "ticks": ""
             }
            },
            "type": "scatterpolargl"
           }
          ],
          "scatterternary": [
           {
            "marker": {
             "colorbar": {
              "outlinewidth": 0,
              "ticks": ""
             }
            },
            "type": "scatterternary"
           }
          ],
          "surface": [
           {
            "colorbar": {
             "outlinewidth": 0,
             "ticks": ""
            },
            "colorscale": [
             [
              0,
              "#0d0887"
             ],
             [
              0.1111111111111111,
              "#46039f"
             ],
             [
              0.2222222222222222,
              "#7201a8"
             ],
             [
              0.3333333333333333,
              "#9c179e"
             ],
             [
              0.4444444444444444,
              "#bd3786"
             ],
             [
              0.5555555555555556,
              "#d8576b"
             ],
             [
              0.6666666666666666,
              "#ed7953"
             ],
             [
              0.7777777777777778,
              "#fb9f3a"
             ],
             [
              0.8888888888888888,
              "#fdca26"
             ],
             [
              1,
              "#f0f921"
             ]
            ],
            "type": "surface"
           }
          ],
          "table": [
           {
            "cells": {
             "fill": {
              "color": "#EBF0F8"
             },
             "line": {
              "color": "white"
             }
            },
            "header": {
             "fill": {
              "color": "#C8D4E3"
             },
             "line": {
              "color": "white"
             }
            },
            "type": "table"
           }
          ]
         },
         "layout": {
          "annotationdefaults": {
           "arrowcolor": "#2a3f5f",
           "arrowhead": 0,
           "arrowwidth": 1
          },
          "autotypenumbers": "strict",
          "coloraxis": {
           "colorbar": {
            "outlinewidth": 0,
            "ticks": ""
           }
          },
          "colorscale": {
           "diverging": [
            [
             0,
             "#8e0152"
            ],
            [
             0.1,
             "#c51b7d"
            ],
            [
             0.2,
             "#de77ae"
            ],
            [
             0.3,
             "#f1b6da"
            ],
            [
             0.4,
             "#fde0ef"
            ],
            [
             0.5,
             "#f7f7f7"
            ],
            [
             0.6,
             "#e6f5d0"
            ],
            [
             0.7,
             "#b8e186"
            ],
            [
             0.8,
             "#7fbc41"
            ],
            [
             0.9,
             "#4d9221"
            ],
            [
             1,
             "#276419"
            ]
           ],
           "sequential": [
            [
             0,
             "#0d0887"
            ],
            [
             0.1111111111111111,
             "#46039f"
            ],
            [
             0.2222222222222222,
             "#7201a8"
            ],
            [
             0.3333333333333333,
             "#9c179e"
            ],
            [
             0.4444444444444444,
             "#bd3786"
            ],
            [
             0.5555555555555556,
             "#d8576b"
            ],
            [
             0.6666666666666666,
             "#ed7953"
            ],
            [
             0.7777777777777778,
             "#fb9f3a"
            ],
            [
             0.8888888888888888,
             "#fdca26"
            ],
            [
             1,
             "#f0f921"
            ]
           ],
           "sequentialminus": [
            [
             0,
             "#0d0887"
            ],
            [
             0.1111111111111111,
             "#46039f"
            ],
            [
             0.2222222222222222,
             "#7201a8"
            ],
            [
             0.3333333333333333,
             "#9c179e"
            ],
            [
             0.4444444444444444,
             "#bd3786"
            ],
            [
             0.5555555555555556,
             "#d8576b"
            ],
            [
             0.6666666666666666,
             "#ed7953"
            ],
            [
             0.7777777777777778,
             "#fb9f3a"
            ],
            [
             0.8888888888888888,
             "#fdca26"
            ],
            [
             1,
             "#f0f921"
            ]
           ]
          },
          "colorway": [
           "#636efa",
           "#EF553B",
           "#00cc96",
           "#ab63fa",
           "#FFA15A",
           "#19d3f3",
           "#FF6692",
           "#B6E880",
           "#FF97FF",
           "#FECB52"
          ],
          "font": {
           "color": "#2a3f5f"
          },
          "geo": {
           "bgcolor": "white",
           "lakecolor": "white",
           "landcolor": "#E5ECF6",
           "showlakes": true,
           "showland": true,
           "subunitcolor": "white"
          },
          "hoverlabel": {
           "align": "left"
          },
          "hovermode": "closest",
          "mapbox": {
           "style": "light"
          },
          "paper_bgcolor": "white",
          "plot_bgcolor": "#E5ECF6",
          "polar": {
           "angularaxis": {
            "gridcolor": "white",
            "linecolor": "white",
            "ticks": ""
           },
           "bgcolor": "#E5ECF6",
           "radialaxis": {
            "gridcolor": "white",
            "linecolor": "white",
            "ticks": ""
           }
          },
          "scene": {
           "xaxis": {
            "backgroundcolor": "#E5ECF6",
            "gridcolor": "white",
            "gridwidth": 2,
            "linecolor": "white",
            "showbackground": true,
            "ticks": "",
            "zerolinecolor": "white"
           },
           "yaxis": {
            "backgroundcolor": "#E5ECF6",
            "gridcolor": "white",
            "gridwidth": 2,
            "linecolor": "white",
            "showbackground": true,
            "ticks": "",
            "zerolinecolor": "white"
           },
           "zaxis": {
            "backgroundcolor": "#E5ECF6",
            "gridcolor": "white",
            "gridwidth": 2,
            "linecolor": "white",
            "showbackground": true,
            "ticks": "",
            "zerolinecolor": "white"
           }
          },
          "shapedefaults": {
           "line": {
            "color": "#2a3f5f"
           }
          },
          "ternary": {
           "aaxis": {
            "gridcolor": "white",
            "linecolor": "white",
            "ticks": ""
           },
           "baxis": {
            "gridcolor": "white",
            "linecolor": "white",
            "ticks": ""
           },
           "bgcolor": "#E5ECF6",
           "caxis": {
            "gridcolor": "white",
            "linecolor": "white",
            "ticks": ""
           }
          },
          "title": {
           "x": 0.05
          },
          "xaxis": {
           "automargin": true,
           "gridcolor": "white",
           "linecolor": "white",
           "ticks": "",
           "title": {
            "standoff": 15
           },
           "zerolinecolor": "white",
           "zerolinewidth": 2
          },
          "yaxis": {
           "automargin": true,
           "gridcolor": "white",
           "linecolor": "white",
           "ticks": "",
           "title": {
            "standoff": 15
           },
           "zerolinecolor": "white",
           "zerolinewidth": 2
          }
         }
        },
        "title": {
         "text": "All Competition Kicks By Team"
        },
        "xaxis": {
         "anchor": "y",
         "domain": [
          0,
          1
         ],
         "title": {
          "text": "competition"
         }
        },
        "yaxis": {
         "anchor": "x",
         "domain": [
          0,
          1
         ],
         "title": {
          "text": "count"
         }
        }
       }
      }
     },
     "metadata": {},
     "output_type": "display_data"
    }
   ],
   "source": [
    "## Penalties per team and competition\n",
    "px.histogram(df2, x='competition', title='All Competition Kicks By Team', color='team_for',color_discrete_map = {'argentina':'violet','barcelona':'black','psg':'yellow'})"
   ]
  },
  {
   "cell_type": "code",
   "execution_count": 28,
   "metadata": {},
   "outputs": [
    {
     "data": {
      "text/plain": [
       "<AxesSubplot: title={'center': 'Aim at Goal'}>"
      ]
     },
     "execution_count": 28,
     "metadata": {},
     "output_type": "execute_result"
    },
    {
     "data": {
      "image/png": "[encoded data removed]",
      "text/plain": [
       "<Figure size 1000x600 with 1 Axes>"
      ]
     },
     "metadata": {},
     "output_type": "display_data"
    }
   ],
   "source": [
    "## Group by position\n",
    "df2.groupby('direction').size().plot(kind='pie', autopct='%.2f', title='Aim at Goal',ylabel='')"
   ]
  },
  {
   "cell_type": "code",
   "execution_count": 32,
   "metadata": {},
   "outputs": [
    {
     "data": {
      "text/plain": [
       "<AxesSubplot: title={'center': 'All Competition Kicks'}, xlabel='competition', ylabel='Number of Kicks'>"
      ]
     },
     "execution_count": 32,
     "metadata": {},
     "output_type": "execute_result"
    },
    {
     "data": {
      "image/png": "[encoded data removed]",
      "text/plain": [
       "<Figure size 1000x600 with 1 Axes>"
      ]
     },
     "metadata": {
      "needs_background": "light"
     },
     "output_type": "display_data"
    }
   ],
   "source": [
    "## Groupby competition\n",
    "df2.groupby('competition').size().plot(kind='bar',xlabel='competition', ylabel='Number of Kicks', title='All Competition Kicks')"
   ]
  },
  {
   "cell_type": "code",
   "execution_count": 31,
   "metadata": {},
   "outputs": [
    {
     "data": {
      "text/plain": [
       "<AxesSubplot: title={'center': 'Kick Accuracy'}>"
      ]
     },
     "execution_count": 31,
     "metadata": {},
     "output_type": "execute_result"
    },
    {
     "data": {
      "image/png": "[encoded data removed]",
      "text/plain": [
       "<Figure size 1000x600 with 1 Axes>"
      ]
     },
     "metadata": {},
     "output_type": "display_data"
    }
   ],
   "source": [
    "## Group by previous penaly (history)\n",
    "\n",
    "df2.groupby('history').size().plot(kind='pie', autopct='%.2f', title='Kick Accuracy',ylabel='',colors = ['blue', 'orange'])"
   ]
  },
  {
   "cell_type": "code",
   "execution_count": 34,
   "metadata": {},
   "outputs": [
    {
     "data": {
      "text/plain": [
       "<AxesSubplot: >"
      ]
     },
     "execution_count": 34,
     "metadata": {},
     "output_type": "execute_result"
    },
    {
     "data": {
      "image/png": "[encoded data removed]",
      "text/plain": [
       "<Figure size 1000x600 with 1 Axes>"
      ]
     },
     "metadata": {
      "needs_background": "light"
     },
     "output_type": "display_data"
    }
   ],
   "source": [
    "## Check venue\n",
    "df2.venue.hist()"
   ]
  },
  {
   "cell_type": "code",
   "execution_count": 35,
   "metadata": {},
   "outputs": [
    {
     "data": {
      "text/plain": [
       "<AxesSubplot: title={'center': 'Kicks by Team'}>"
      ]
     },
     "execution_count": 35,
     "metadata": {},
     "output_type": "execute_result"
    },
    {
     "data": {
      "image/png": "[encoded data removed]",
      "text/plain": [
       "<Figure size 1000x600 with 1 Axes>"
      ]
     },
     "metadata": {},
     "output_type": "display_data"
    }
   ],
   "source": [
    "## Group by team\n",
    "\n",
    "df2.groupby('team_for').size().plot(kind='pie', autopct='%.2f',ylabel='',title='Kicks by Team',colors=['black','red','green','yellow'])"
   ]
  },
  {
   "cell_type": "code",
   "execution_count": 36,
   "metadata": {},
   "outputs": [
    {
     "data": {
      "text/plain": [
       "Index(['team_for', 'time', 'scoreline', 'venue', 'history', 'competition',\n",
       "       'direction'],\n",
       "      dtype='object')"
      ]
     },
     "execution_count": 36,
     "metadata": {},
     "output_type": "execute_result"
    }
   ],
   "source": [
    "df2.columns"
   ]
  },
  {
   "cell_type": "code",
   "execution_count": 37,
   "metadata": {},
   "outputs": [],
   "source": [
    "##Create a dataframe with the predictor variables\n",
    "\n",
    "## Transformar data\n",
    "df2['direction']=df['direction'].map({'left':0, 'right':1,'middle':2})\n",
    "categorical = ['team_for', 'time', 'scoreline', 'venue', 'history', 'competition']"
   ]
  },
  {
   "cell_type": "code",
   "execution_count": 38,
   "metadata": {},
   "outputs": [
    {
     "data": {
      "text/html": [
       "<div>\n",
       "<style scoped>\n",
       "    .dataframe tbody tr th:only-of-type {\n",
       "        vertical-align: middle;\n",
       "    }\n",
       "\n",
       "    .dataframe tbody tr th {\n",
       "        vertical-align: top;\n",
       "    }\n",
       "\n",
       "    .dataframe thead th {\n",
       "        text-align: right;\n",
       "    }\n",
       "</style>\n",
       "<table border=\"1\" class=\"dataframe\">\n",
       "  <thead>\n",
       "    <tr style=\"text-align: right;\">\n",
       "      <th></th>\n",
       "      <th>team_for</th>\n",
       "      <th>time</th>\n",
       "      <th>scoreline</th>\n",
       "      <th>venue</th>\n",
       "      <th>history</th>\n",
       "      <th>competition</th>\n",
       "      <th>direction</th>\n",
       "    </tr>\n",
       "  </thead>\n",
       "  <tbody>\n",
       "    <tr>\n",
       "      <th>0</th>\n",
       "      <td>argentina</td>\n",
       "      <td>40</td>\n",
       "      <td>draw</td>\n",
       "      <td>neutral</td>\n",
       "      <td>0</td>\n",
       "      <td>wc</td>\n",
       "      <td>0</td>\n",
       "    </tr>\n",
       "    <tr>\n",
       "      <th>1</th>\n",
       "      <td>argentina</td>\n",
       "      <td>75</td>\n",
       "      <td>draw</td>\n",
       "      <td>neutral</td>\n",
       "      <td>1</td>\n",
       "      <td>wc</td>\n",
       "      <td>1</td>\n",
       "    </tr>\n",
       "    <tr>\n",
       "      <th>2</th>\n",
       "      <td>argentina</td>\n",
       "      <td>55</td>\n",
       "      <td>losing</td>\n",
       "      <td>neutral</td>\n",
       "      <td>1</td>\n",
       "      <td>friendly</td>\n",
       "      <td>0</td>\n",
       "    </tr>\n",
       "    <tr>\n",
       "      <th>3</th>\n",
       "      <td>barcelona</td>\n",
       "      <td>79</td>\n",
       "      <td>lead</td>\n",
       "      <td>home</td>\n",
       "      <td>1</td>\n",
       "      <td>laliga</td>\n",
       "      <td>1</td>\n",
       "    </tr>\n",
       "    <tr>\n",
       "      <th>4</th>\n",
       "      <td>barcelona</td>\n",
       "      <td>80</td>\n",
       "      <td>lead</td>\n",
       "      <td>home</td>\n",
       "      <td>1</td>\n",
       "      <td>laliga</td>\n",
       "      <td>2</td>\n",
       "    </tr>\n",
       "    <tr>\n",
       "      <th>...</th>\n",
       "      <td>...</td>\n",
       "      <td>...</td>\n",
       "      <td>...</td>\n",
       "      <td>...</td>\n",
       "      <td>...</td>\n",
       "      <td>...</td>\n",
       "      <td>...</td>\n",
       "    </tr>\n",
       "    <tr>\n",
       "      <th>132</th>\n",
       "      <td>argentina</td>\n",
       "      <td>8</td>\n",
       "      <td>draw</td>\n",
       "      <td>neutral</td>\n",
       "      <td>0</td>\n",
       "      <td>friendly</td>\n",
       "      <td>1</td>\n",
       "    </tr>\n",
       "    <tr>\n",
       "      <th>133</th>\n",
       "      <td>argentina</td>\n",
       "      <td>45</td>\n",
       "      <td>lead</td>\n",
       "      <td>neutral</td>\n",
       "      <td>1</td>\n",
       "      <td>friendly</td>\n",
       "      <td>1</td>\n",
       "    </tr>\n",
       "    <tr>\n",
       "      <th>134</th>\n",
       "      <td>argentina</td>\n",
       "      <td>10</td>\n",
       "      <td>draw</td>\n",
       "      <td>neutral</td>\n",
       "      <td>1</td>\n",
       "      <td>wc</td>\n",
       "      <td>0</td>\n",
       "    </tr>\n",
       "    <tr>\n",
       "      <th>135</th>\n",
       "      <td>argentina</td>\n",
       "      <td>39</td>\n",
       "      <td>draw</td>\n",
       "      <td>neutral</td>\n",
       "      <td>1</td>\n",
       "      <td>wc</td>\n",
       "      <td>1</td>\n",
       "    </tr>\n",
       "    <tr>\n",
       "      <th>136</th>\n",
       "      <td>argentina</td>\n",
       "      <td>73</td>\n",
       "      <td>lead</td>\n",
       "      <td>neutral</td>\n",
       "      <td>0</td>\n",
       "      <td>wc</td>\n",
       "      <td>0</td>\n",
       "    </tr>\n",
       "  </tbody>\n",
       "</table>\n",
       "<p>137 rows × 7 columns</p>\n",
       "</div>"
      ],
      "text/plain": [
       "      team_for  time scoreline    venue  history competition  direction\n",
       "0    argentina    40      draw  neutral        0          wc          0\n",
       "1    argentina    75      draw  neutral        1          wc          1\n",
       "2    argentina    55    losing  neutral        1    friendly          0\n",
       "3    barcelona    79      lead     home        1      laliga          1\n",
       "4    barcelona    80      lead     home        1      laliga          2\n",
       "..         ...   ...       ...      ...      ...         ...        ...\n",
       "132  argentina     8      draw  neutral        0    friendly          1\n",
       "133  argentina    45      lead  neutral        1    friendly          1\n",
       "134  argentina    10      draw  neutral        1          wc          0\n",
       "135  argentina    39      draw  neutral        1          wc          1\n",
       "136  argentina    73      lead  neutral        0          wc          0\n",
       "\n",
       "[137 rows x 7 columns]"
      ]
     },
     "execution_count": 38,
     "metadata": {},
     "output_type": "execute_result"
    }
   ],
   "source": [
    "df2"
   ]
  },
  {
   "cell_type": "code",
   "execution_count": 39,
   "metadata": {},
   "outputs": [],
   "source": [
    "## Split data set \n",
    "\n",
    "df_train, df_test =train_test_split(df2, test_size=0.20,random_state=123)\n",
    "\n",
    "y = df2.direction\n",
    "\n",
    "## Extracr Y variable\n",
    "y_train = (df_train.direction).values\n",
    "y_test = (df_test.direction).values\n",
    "\n",
    "del df_train['direction']\n",
    "del df_test['direction']\n",
    "\n",
    "## To dictionary\n",
    "dict_train = df_train.to_dict(orient='records')\n",
    "dict_test = df_test.to_dict(orient='records')\n",
    "\n",
    "## Vectorize\n",
    "\n",
    "dv = DictVectorizer(sparse=False)\n",
    "X_train = dv.fit_transform(dict_train)\n",
    "X_test = dv.transform(dict_test)\n",
    "\n"
   ]
  },
  {
   "cell_type": "code",
   "execution_count": 40,
   "metadata": {},
   "outputs": [
    {
     "name": "stdout",
     "output_type": "stream",
     "text": [
      "Training-set accuracy score: 0.5596\n",
      "Test Model accuracy score: 0.3571\n",
      "[1 1 1 1 1 1 1 1 1 1]\n",
      "[[ 1 10  0]\n",
      " [ 2  9  0]\n",
      " [ 0  6  0]]\n"
     ]
    },
    {
     "data": {
      "text/plain": [
       "35.714285714285715"
      ]
     },
     "execution_count": 40,
     "metadata": {},
     "output_type": "execute_result"
    }
   ],
   "source": [
    "## One vs Restt\n",
    "\n",
    "# define model\n",
    "model = SVC(decision_function_shape='ovo')\n",
    "\n",
    "\n",
    "# Fit el modelo\n",
    "model.fit(X_train, y_train)\n",
    "\n",
    "## ACCURACY\n",
    "\n",
    "## Train data set\n",
    "y_pred_train = model.predict(X_train)\n",
    "print('Training-set accuracy score: {0:0.4f}'. format(accuracy_score(y_train, y_pred_train)))\n",
    "\n",
    "\n",
    "## Test data set\n",
    "y_pred = model.predict(X_test)\n",
    "print('Test Model accuracy score: {0:0.4f}'. format(accuracy_score(y_test, y_pred)))\n",
    "\n",
    "## Predictions\n",
    "print(y_pred[0:10])\n",
    "\n",
    "## Confusion matrix\n",
    "cm = confusion_matrix(y_test,y_pred)\n",
    "print(cm)\n",
    "\n",
    "accuracy_score(y_test,y_pred)*100\n"
   ]
  },
  {
   "cell_type": "code",
   "execution_count": 41,
   "metadata": {},
   "outputs": [
    {
     "name": "stdout",
     "output_type": "stream",
     "text": [
      "Training-set accuracy score: 0.9725\n",
      "Test Model accuracy score: 0.3929\n",
      "[1 1 0 1 1 1 1 1 1 1]\n",
      "[[4 6 1]\n",
      " [4 6 1]\n",
      " [1 4 1]]\n"
     ]
    },
    {
     "data": {
      "text/plain": [
       "39.285714285714285"
      ]
     },
     "execution_count": 41,
     "metadata": {},
     "output_type": "execute_result"
    }
   ],
   "source": [
    "## Decision Tree\n",
    "\n",
    "from sklearn.tree import DecisionTreeClassifier\n",
    "from sklearn.metrics import roc_auc_score\n",
    "\n",
    "## Model\n",
    "dt = DecisionTreeClassifier()\n",
    "dt.fit(X_train, y_train)\n",
    "\n",
    "## ACCURACY\n",
    "\n",
    "## Train data set\n",
    "y_pred_train = dt.predict(X_train)\n",
    "print('Training-set accuracy score: {0:0.4f}'. format(accuracy_score(y_train, y_pred_train)))\n",
    "\n",
    "\n",
    "## Test data set\n",
    "y_pred = dt.predict(X_test)\n",
    "print('Test Model accuracy score: {0:0.4f}'. format(accuracy_score(y_test, y_pred)))\n",
    "\n",
    "## Predictions\n",
    "print(y_pred[0:10])\n",
    "\n",
    "## Confusion matrix\n",
    "cm = confusion_matrix(y_test,y_pred)\n",
    "print(cm)\n",
    "\n",
    "accuracy_score(y_test,y_pred)*100"
   ]
  },
  {
   "cell_type": "code",
   "execution_count": 42,
   "metadata": {},
   "outputs": [
    {
     "name": "stdout",
     "output_type": "stream",
     "text": [
      "Training-set accuracy score: 0.2569\n",
      "Test Model accuracy score: 0.4643\n",
      "[1 2 2 2 2 2 1 0 2 0]\n",
      "[[5 0 6]\n",
      " [1 2 8]\n",
      " [0 0 6]]\n"
     ]
    },
    {
     "data": {
      "text/plain": [
       "46.42857142857143"
      ]
     },
     "execution_count": 42,
     "metadata": {},
     "output_type": "execute_result"
    }
   ],
   "source": [
    "## Naive Bayes\n",
    "\n",
    "# Definir el modelo\n",
    "gnb = GaussianNB()\n",
    "\n",
    "\n",
    "# Fit el modelo\n",
    "gnb.fit(X_train, y_train)\n",
    "\n",
    "## ACCURACY\n",
    "\n",
    "## Train data set\n",
    "y_pred_train = gnb.predict(X_train)\n",
    "print('Training-set accuracy score: {0:0.4f}'. format(accuracy_score(y_train, y_pred_train)))\n",
    "\n",
    "\n",
    "## Test data set\n",
    "y_pred = gnb.predict(X_test)\n",
    "print('Test Model accuracy score: {0:0.4f}'. format(accuracy_score(y_test, y_pred)))\n",
    "\n",
    "## Predictions\n",
    "print(y_pred[0:10])\n",
    "\n",
    "## Confusion matrix\n",
    "cm = confusion_matrix(y_test,y_pred)\n",
    "print(cm)\n",
    "\n",
    "accuracy_score(y_test,y_pred)*100\n"
   ]
  },
  {
   "cell_type": "code",
   "execution_count": 52,
   "metadata": {},
   "outputs": [],
   "source": [
    "## XGboost Model \n",
    "\n",
    "\n",
    "def hyperParameterTuning(X_train, y_train):\n",
    "    xgb_params = {\n",
    "        'learning_rate': [0.001, 0.1, 0.5,1],\n",
    "        'max_depth': [3, 7, 9, 15],\n",
    "        'min_child_weight': [1, 1.5, 3],\n",
    "        'subsample': [0.5, 0.7],\n",
    "        'num_class':[3],\n",
    "        'colsample_bytree': [0.5, 0.7],\n",
    "        'n_estimators' : [100, 200, 500],\n",
    "        'objective': ['multi:softmax']\n",
    "    }\n",
    "\n",
    "    model = XGBClassifier()\n",
    "\n",
    "    gsearch = GridSearchCV(estimator = model,\n",
    "                           param_grid = xgb_params,                        \n",
    "                           #scoring = 'neg_mean_absolute_error', #MAE\n",
    "                           #scoring = 'neg_mean_squared_error',  #MSE\n",
    "                           cv = 5,\n",
    "                           n_jobs = -1,\n",
    "                           verbose = 1)\n",
    "\n",
    "    gsearch.fit(X_train,y_train)\n",
    "\n",
    "    return gsearch.best_params_\n",
    "\n"
   ]
  },
  {
   "cell_type": "code",
   "execution_count": 53,
   "metadata": {},
   "outputs": [
    {
     "name": "stdout",
     "output_type": "stream",
     "text": [
      "Fitting 5 folds for each of 576 candidates, totalling 2880 fits\n"
     ]
    },
    {
     "data": {
      "text/plain": [
       "{'colsample_bytree': 0.5,\n",
       " 'learning_rate': 0.1,\n",
       " 'max_depth': 9,\n",
       " 'min_child_weight': 1,\n",
       " 'n_estimators': 100,\n",
       " 'num_class': 3,\n",
       " 'objective': 'multi:softmax',\n",
       " 'subsample': 0.5}"
      ]
     },
     "execution_count": 53,
     "metadata": {},
     "output_type": "execute_result"
    }
   ],
   "source": [
    "hyperParameterTuning(X_train, y_train)"
   ]
  },
  {
   "cell_type": "markdown",
   "metadata": {},
   "source": [
    "BEST MODEL"
   ]
  },
  {
   "cell_type": "code",
   "execution_count": 54,
   "metadata": {},
   "outputs": [
    {
     "name": "stderr",
     "output_type": "stream",
     "text": [
      "/Library/Frameworks/Python.framework/Versions/3.10/lib/python3.10/site-packages/xgboost/sklearn.py:793: UserWarning:\n",
      "\n",
      "`early_stopping_rounds` in `fit` method is deprecated for better compatibility with scikit-learn, use `early_stopping_rounds` in constructor or`set_params` instead.\n",
      "\n"
     ]
    },
    {
     "name": "stdout",
     "output_type": "stream",
     "text": [
      "CPU times: user 647 ms, sys: 627 ms, total: 1.27 s\n",
      "Wall time: 334 ms\n",
      "Accuracy: 0.853211\n"
     ]
    }
   ],
   "source": [
    "model = XGBClassifier(\n",
    "colsample_bytree = 0.5,\n",
    "learning_rate = 0.1,\n",
    "max_depth = 9,\n",
    "min_child_weight = 1,\n",
    "n_estimators = 100,\n",
    "num_class = 3,\n",
    "objective = 'multi:softmax',\n",
    "subsample = 0.5)\n",
    "\n",
    "%time model.fit(X_train, y_train, early_stopping_rounds=5, eval_set=[(X_train, y_train)], verbose=False)\n",
    "\n",
    "y_pred = model.predict(X_train)\n",
    "from sklearn.metrics import accuracy_score\n",
    "score = accuracy_score(y_train, y_pred)\n",
    "print(\"Accuracy: %f\" % (score))\n",
    "#mae_xgb = mean_absolute_error(y_val, y_pred_xgb)"
   ]
  },
  {
   "cell_type": "code",
   "execution_count": 55,
   "metadata": {},
   "outputs": [
    {
     "data": {
      "text/plain": [
       "Model(tag=\"messi_model:jwj2jwt27gv5ppve\", path=\"/Users/alexandervalverde/bentoml/models/messi_model/jwj2jwt27gv5ppve/\")"
      ]
     },
     "execution_count": 55,
     "metadata": {},
     "output_type": "execute_result"
    }
   ],
   "source": [
    "import bentoml\n",
    "bentoml.xgboost.save_model(\"messi_model\",model, custom_objects={\"DictVectorizer\":dv},\n",
    "signatures={\"predict\": {\"batchable\":True,\"batch_dim\":0,}})"
   ]
  }
 ],
 "metadata": {
  "kernelspec": {
   "display_name": "Python 3.10.7 64-bit",
   "language": "python",
   "name": "python3"
  },
  "language_info": {
   "codemirror_mode": {
    "name": "ipython",
    "version": 3
   },
   "file_extension": ".py",
   "mimetype": "text/x-python",
   "name": "python",
   "nbconvert_exporter": "python",
   "pygments_lexer": "ipython3",
   "version": "3.10.7"
  },
  "orig_nbformat": 4,
  "vscode": {
   "interpreter": {
    "hash": "aee8b7b246df8f9039afb4144a1f6fd8d2ca17a180786b69acc140d282b71a49"
   }
  }
 },
 "nbformat": 4,
 "nbformat_minor": 2
}
